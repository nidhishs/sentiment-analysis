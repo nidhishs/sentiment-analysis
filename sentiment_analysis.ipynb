{
 "cells": [
  {
   "cell_type": "markdown",
   "id": "capable-cardiff",
   "metadata": {},
   "source": [
    "# Tweet Sentiment Analysis\n",
    "<span style=\"font-variant: small-caps; font-size: 2rem\">~Nidhish Shah</span>"
   ]
  },
  {
   "cell_type": "code",
   "execution_count": 1,
   "id": "military-baking",
   "metadata": {},
   "outputs": [],
   "source": [
    "import pandas as pd\n",
    "import spacy\n",
    "import re\n",
    "import seaborn as sns\n",
    "import pickle\n",
    "import numpy as np\n",
    "from matplotlib import pyplot\n",
    "from sklearn.model_selection import train_test_split\n",
    "from sklearn.feature_extraction.text import CountVectorizer\n",
    "from sklearn.linear_model import SGDClassifier\n",
    "from sklearn.metrics import accuracy_score\n",
    "\n",
    "nlp = spacy.load('en_core_web_sm')"
   ]
  },
  {
   "cell_type": "markdown",
   "id": "dental-market",
   "metadata": {},
   "source": [
    "### Text Preprocessing\n",
    "\n",
    "The hashtags regex `^#\\S+|\\s#\\S+` matches any string that starts with `#` followed by one or more non-whitespace characters or any string that where a white space preceeds `#` which is followed by one or more non-whitespace characters.\n",
    "\n",
    "Similarly the mentions regex `^@\\S+|\\s@\\S+` matches any string starting with `@` followed by one or more non-white space characters.\n",
    "\n",
    "The URL regex targets any strings that begin with `https://` or `http://` followed by one or more non-whitespace characters. The regex does not capture links that do not use the http/https protocol, however since majority of links shared online use the protocol, the regex should filter successfully most links.\n",
    "\n",
    "We attempt to fix word lengthening often found in tweets such _hellloooo_ or _hiiiii_ by observing that words in English have usually at most two consecutive repeating characters. The regex captures any string with three or more consecutive characters and replaces with two repeating characters. This however doesn't fix the word _hiiiii_, which gets contracted to _hii_.\n",
    "\n",
    "Finally we use the model provided by `spacy` to lemmatise the text and filter out all stopwords to reduce the number of words seen by the classifier."
   ]
  },
  {
   "cell_type": "code",
   "execution_count": 2,
   "id": "ranking-armor",
   "metadata": {},
   "outputs": [],
   "source": [
    "hashtags = re.compile(r\"^#\\S+|\\s#\\S+\")\n",
    "mentions = re.compile(r\"^@\\S+|\\s@\\S+\")\n",
    "urls = re.compile(r\"(https|http)?:\\/\\/\\S+\")\n",
    "# Apostrophe kept to allow word contraction; eg = don't, can't\n",
    "punctuation = re.compile(r\"[^\\w\\s']\") \n",
    "\n",
    "def preprocess_text(text):\n",
    "    for pattern in [hashtags, mentions, urls, punctuation]:\n",
    "        text = pattern.sub(' ', text)\n",
    "    \n",
    "    # Fix word lengthening. Most words in English have at most two consecutive repeating characters.\n",
    "    text = re.sub(r\"(.)\\1{2,}\", r\"\\1\\1\", text)\n",
    "    \n",
    "    # Convert entire text to lower case and remove redundant whitespaces.\n",
    "    cleaned_text = \" \".join(text.lower().split())\n",
    "    \n",
    "    doc = nlp(cleaned_text)\n",
    "    \n",
    "    # Lemmatise words from original text that are not stopwords.\n",
    "    preprocessed_text = \" \".join([token.lemma_ for token in doc if not token.is_stop])\n",
    "    \n",
    "    return preprocessed_text"
   ]
  },
  {
   "cell_type": "code",
   "execution_count": 3,
   "id": "official-stylus",
   "metadata": {},
   "outputs": [
    {
     "name": "stdout",
     "output_type": "stream",
     "text": [
      "checkout portfolio website\n",
      "love run city city\n",
      "word contraction like 9 o'clock madam preserve\n",
      "spelling mistake like helloo correct thhis\n"
     ]
    }
   ],
   "source": [
    "sample_text = [\n",
    "    \"Checkout my portfolio website: https://nidhishs.github.io\",\n",
    "    \"I love running from city to city @runner #fun #health.\",\n",
    "    \"Word contractions like 9 o'clock and ma'am should be preserved.\",\n",
    "    \"Spelling mistakes like helllllooooo should get corrected. But thhhhis will not.\"\n",
    "]\n",
    "\n",
    "for text in sample_text:\n",
    "    print(preprocess_text(text))"
   ]
  },
  {
   "cell_type": "markdown",
   "id": "cardiovascular-april",
   "metadata": {},
   "source": [
    "### Loading the Dataset, Count Vectorizer & Classifier Model.\n",
    "\n",
    "We first try to load the dataset on which preprocessing has already been applied. If the preprocessed dataset is not found, we load the unprocessed dataset, apply the text preprocessing to each row and save it for retrieval later."
   ]
  },
  {
   "cell_type": "code",
   "execution_count": 4,
   "id": "southern-brave",
   "metadata": {},
   "outputs": [],
   "source": [
    "def load_dataset():\n",
    "    try:\n",
    "        df = pd.read_csv('sentiment_dataset_preproc.csv', encoding='utf-8')\n",
    "    except FileNotFoundError:\n",
    "        df = pd.read_csv('sentiment_dataset.csv', encoding='utf-8', nrows=100000)\n",
    "        df.tweet = df.tweet.apply(preprocess_text)\n",
    "        df.to_csv('sentiment_dataset_preproc.csv', index=False)\n",
    "        \n",
    "    return df"
   ]
  },
  {
   "cell_type": "markdown",
   "id": "preliminary-swedish",
   "metadata": {},
   "source": [
    "Similarly we load the Count Vectorizer to transform the text into vectorized data and the linear SVM classifier with stochastic gradient descent."
   ]
  },
  {
   "cell_type": "code",
   "execution_count": 5,
   "id": "medical-holocaust",
   "metadata": {},
   "outputs": [],
   "source": [
    "def load_count_vectorizer(data):\n",
    "    try:\n",
    "        count_vector = pickle.load(open('count_vector.pickle', 'rb'))\n",
    "    except FileNotFoundError:\n",
    "        count_vector = CountVectorizer(analyzer='word')\n",
    "        count_vector.fit(data)\n",
    "        pickle.dump(count_vector, open('count_vector.pickle', 'wb'))\n",
    "    \n",
    "    return count_vector"
   ]
  },
  {
   "cell_type": "code",
   "execution_count": 6,
   "id": "closing-windows",
   "metadata": {},
   "outputs": [],
   "source": [
    "def load_sgdc(X, y):\n",
    "    try:\n",
    "        sgdc = pickle.load(open('sgdc.pickle', 'rb'))\n",
    "    except FileNotFoundError:\n",
    "        sgdc = SGDClassifier(random_state=5, max_iter=15, tol=None)\n",
    "        sgdc.fit(X, y)\n",
    "        pickle.dump(sgdc, open('sgdc.pickle', 'wb'))\n",
    "    \n",
    "    return sgdc"
   ]
  },
  {
   "cell_type": "markdown",
   "id": "controlling-grass",
   "metadata": {},
   "source": [
    "### Exploratory Data Analysis.\n",
    "\n",
    "We split the preprocessed dataset into training and validation sets with a 90-10 split."
   ]
  },
  {
   "cell_type": "code",
   "execution_count": 7,
   "id": "rising-locator",
   "metadata": {},
   "outputs": [],
   "source": [
    "df_tweets = load_dataset()\n",
    "X_train, X_val, y_train, y_val = train_test_split(\n",
    "        df_tweets.tweet.values,\n",
    "        df_tweets.sentiment.values,\n",
    "        test_size=0.1,\n",
    "        random_state=0,\n",
    "        stratify=df_tweets.sentiment.values,\n",
    "        shuffle=True\n",
    "    )"
   ]
  },
  {
   "cell_type": "markdown",
   "id": "general-implement",
   "metadata": {},
   "source": [
    "Note that the labels are already encoded with `1` as positive and `0` as negative."
   ]
  },
  {
   "cell_type": "code",
   "execution_count": 8,
   "id": "dependent-frontier",
   "metadata": {},
   "outputs": [
    {
     "data": {
      "text/html": [
       "<div>\n",
       "<style scoped>\n",
       "    .dataframe tbody tr th:only-of-type {\n",
       "        vertical-align: middle;\n",
       "    }\n",
       "\n",
       "    .dataframe tbody tr th {\n",
       "        vertical-align: top;\n",
       "    }\n",
       "\n",
       "    .dataframe thead th {\n",
       "        text-align: right;\n",
       "    }\n",
       "</style>\n",
       "<table border=\"1\" class=\"dataframe\">\n",
       "  <thead>\n",
       "    <tr style=\"text-align: right;\">\n",
       "      <th></th>\n",
       "      <th>sentiment</th>\n",
       "      <th>tweet</th>\n",
       "    </tr>\n",
       "  </thead>\n",
       "  <tbody>\n",
       "    <tr>\n",
       "      <th>0</th>\n",
       "      <td>1</td>\n",
       "      <td>papa johns deny debit card online order piggy</td>\n",
       "    </tr>\n",
       "    <tr>\n",
       "      <th>1</th>\n",
       "      <td>1</td>\n",
       "      <td>time choice push personal limit day rewire bra...</td>\n",
       "    </tr>\n",
       "    <tr>\n",
       "      <th>2</th>\n",
       "      <td>0</td>\n",
       "      <td>oh signal be home lol s funny wacko call u</td>\n",
       "    </tr>\n",
       "    <tr>\n",
       "      <th>3</th>\n",
       "      <td>1</td>\n",
       "      <td>not sorry pearson come round amp watch zach br...</td>\n",
       "    </tr>\n",
       "    <tr>\n",
       "      <th>4</th>\n",
       "      <td>0</td>\n",
       "      <td>tomorrow birthdayy be get old</td>\n",
       "    </tr>\n",
       "  </tbody>\n",
       "</table>\n",
       "</div>"
      ],
      "text/plain": [
       "   sentiment                                              tweet\n",
       "0          1      papa johns deny debit card online order piggy\n",
       "1          1  time choice push personal limit day rewire bra...\n",
       "2          0         oh signal be home lol s funny wacko call u\n",
       "3          1  not sorry pearson come round amp watch zach br...\n",
       "4          0                      tomorrow birthdayy be get old"
      ]
     },
     "execution_count": 8,
     "metadata": {},
     "output_type": "execute_result"
    }
   ],
   "source": [
    "df_tweets.head()\n",
    "# 1 = Positive, 0 = Negative"
   ]
  },
  {
   "cell_type": "markdown",
   "id": "qualified-conspiracy",
   "metadata": {},
   "source": [
    "Since both the classes have an equal number of samples, we do not need to do any further processing to balance them."
   ]
  },
  {
   "cell_type": "code",
   "execution_count": 9,
   "id": "better-amazon",
   "metadata": {},
   "outputs": [
    {
     "data": {
      "image/png": "[encoded data removed]",
      "text/plain": [
       "<Figure size 432x288 with 1 Axes>"
      ]
     },
     "metadata": {
      "needs_background": "light"
     },
     "output_type": "display_data"
    }
   ],
   "source": [
    "ax = sns.countplot(x=\"sentiment\", data=df_tweets)\n",
    "ax.set_xticklabels(['Negative', 'Positive']);"
   ]
  },
  {
   "cell_type": "markdown",
   "id": "persistent-adventure",
   "metadata": {},
   "source": [
    "### Calculate the sentiment.\n",
    "\n",
    "Each input text is preprocessed, converted to a vector and we use the LSVM model to predict the sentiment of the text."
   ]
  },
  {
   "cell_type": "code",
   "execution_count": 10,
   "id": "mysterious-washer",
   "metadata": {},
   "outputs": [],
   "source": [
    "def get_sentiment(texts, count_vector, sgdc):\n",
    "    preproc_text = [preprocess_text(text) for text in texts]\n",
    "    vector_text = count_vector.transform(preproc_text)\n",
    "    predictions = sgdc.predict(vector_text)\n",
    "    \n",
    "    return predictions"
   ]
  },
  {
   "cell_type": "code",
   "execution_count": 11,
   "id": "controlling-blake",
   "metadata": {},
   "outputs": [],
   "source": [
    "count_vector = load_count_vectorizer(df_tweets.tweet)\n",
    "X_train_count = count_vector.transform(X_train.astype('U'))\n",
    "x_val_count = count_vector.transform(X_val.astype('U'))"
   ]
  },
  {
   "cell_type": "markdown",
   "id": "imperial-graham",
   "metadata": {},
   "source": [
    "We use the validation set to calculate the accuracy. The accuracy is lower than expected however this can be improved by using a recurrent neural network since language follows a sequence of words or a TF-IDF vectorizer where a keyword in a tweet can determine the entire sentiment of the text."
   ]
  },
  {
   "cell_type": "code",
   "execution_count": 12,
   "id": "another-photography",
   "metadata": {},
   "outputs": [
    {
     "data": {
      "text/plain": [
       "0.736"
      ]
     },
     "execution_count": 12,
     "metadata": {},
     "output_type": "execute_result"
    }
   ],
   "source": [
    "sgdc = load_sgdc(X_train_count, y_train)\n",
    "y_predictions = sgdc.predict(x_val_count)\n",
    "accuracy_score(y_predictions, y_val)"
   ]
  },
  {
   "cell_type": "markdown",
   "id": "impressive-payday",
   "metadata": {},
   "source": [
    "### Testing sample tweets."
   ]
  },
  {
   "cell_type": "code",
   "execution_count": 13,
   "id": "entertaining-algorithm",
   "metadata": {},
   "outputs": [],
   "source": [
    "sample_tweets = [\n",
    "    \"I'm looking forward to studying AI. Fun stories.\",\n",
    "    \"I'm afraid of failing the test.\",\n",
    "    \"I am absolutely disappointed by the fake news.\",\n",
    "    \"Continue to be a good person.\"\n",
    "]"
   ]
  },
  {
   "cell_type": "code",
   "execution_count": 14,
   "id": "collect-animal",
   "metadata": {
    "scrolled": true
   },
   "outputs": [
    {
     "name": "stdout",
     "output_type": "stream",
     "text": [
      "Positive\n",
      "Negative\n",
      "Negative\n",
      "Positive\n"
     ]
    }
   ],
   "source": [
    "sample_tweets_prediction = get_sentiment(sample_tweets, count_vector, sgdc)\n",
    "for sentiment in sample_tweets_prediction:\n",
    "    print('Positive' if sentiment==1 else 'Negative')"
   ]
  },
  {
   "cell_type": "markdown",
   "id": "ignored-compact",
   "metadata": {},
   "source": [
    "It is observed that all the predictions here are correct. This can be attributed to the fact that all the sentences are grammatically correct and have no spelling mistakes."
   ]
  }
 ],
 "metadata": {
  "kernelspec": {
   "display_name": "Python 3",
   "language": "python",
   "name": "python3"
  },
  "language_info": {
   "codemirror_mode": {
    "name": "ipython",
    "version": 3
   },
   "file_extension": ".py",
   "mimetype": "text/x-python",
   "name": "python",
   "nbconvert_exporter": "python",
   "pygments_lexer": "ipython3",
   "version": "3.8.2"
  }
 },
 "nbformat": 4,
 "nbformat_minor": 5
}
